{
 "cells": [
  {
   "cell_type": "code",
   "execution_count": null,
   "metadata": {},
   "outputs": [],
   "source": [
    "from __future__ import absolute_import, division, print_function"
   ]
  },
  {
   "cell_type": "code",
   "execution_count": null,
   "metadata": {},
   "outputs": [],
   "source": [
    "import kimpy"
   ]
  },
  {
   "cell_type": "code",
   "execution_count": null,
   "metadata": {},
   "outputs": [],
   "source": [
    "def check_error(error, message=None):\n",
    "    if error != 0 and error is not None:\n",
    "        raise Exception('KIM error. Calling \"{}\" failed.'.format(message))"
   ]
  },
  {
   "cell_type": "code",
   "execution_count": null,
   "metadata": {},
   "outputs": [],
   "source": [
    "def report_error(message=None):\n",
    "    raise Exception('KIM error. {}.'.format(message))"
   ]
  },
  {
   "cell_type": "code",
   "execution_count": null,
   "metadata": {},
   "outputs": [],
   "source": [
    "def dirs_for_collection(collection, col):\n",
    "    for it in [\n",
    "        kimpy.collection_item_type.modelDriver,\n",
    "        kimpy.collection_item_type.portableModel,\n",
    "        kimpy.collection_item_type.simulatorModel,\n",
    "    ]:\n",
    "        extent, error = col.cache_list_of_directory_names(collection, it)\n",
    "        check_error(error, 'cache_list_of_directory_names')\n",
    "        print(str(collection), ':', str(it), ':')\n",
    "        for i in range(extent):\n",
    "            name, error = col.get_directory_name(i)\n",
    "            check_error(error, 'get_directory_name')\n",
    "            print('    ', name)"
   ]
  },
  {
   "cell_type": "code",
   "execution_count": null,
   "metadata": {},
   "outputs": [],
   "source": [
    "def names_for_collection(collection, col):\n",
    "    for it in [\n",
    "        kimpy.collection_item_type.modelDriver,\n",
    "        kimpy.collection_item_type.portableModel,\n",
    "        kimpy.collection_item_type.simulatorModel,\n",
    "    ]:\n",
    "        extent, error = col.cache_list_of_item_names_by_collection_and_type(\n",
    "            collection, it\n",
    "        )\n",
    "        check_error(error, 'cache_list_of_directory_names')\n",
    "        print(str(collection), ':', str(it), ':')\n",
    "        for i in range(extent):\n",
    "            name, error = col.get_item_name_by_collection_and_type(i)\n",
    "            check_error(error, 'get_item_name_by_collection_and_type')\n",
    "            print('    ', name)"
   ]
  },
  {
   "cell_type": "code",
   "execution_count": null,
   "metadata": {},
   "outputs": [],
   "source": [
    "col, error = kimpy.collections.create()\n",
    "check_error(error, 'collections.create')"
   ]
  },
  {
   "cell_type": "code",
   "execution_count": null,
   "metadata": {},
   "outputs": [],
   "source": [
    "project, semver = col.get_project_name_and_sem_ver()\n",
    "print('Project:', project)\n",
    "print('semVer:', semver)"
   ]
  },
  {
   "cell_type": "code",
   "execution_count": null,
   "metadata": {},
   "outputs": [],
   "source": [
    "for it in [\n",
    "    kimpy.collection_item_type.modelDriver,\n",
    "    kimpy.collection_item_type.portableModel,\n",
    "    kimpy.collection_item_type.simulatorModel,\n",
    "]:\n",
    "    name, error = col.get_environment_variable_name(it)\n",
    "    check_error(error, 'get_environment_variable_name')\n",
    "    print(str(it), ' env name:', name)"
   ]
  },
  {
   "cell_type": "code",
   "execution_count": null,
   "metadata": {},
   "outputs": [],
   "source": [
    "name, value = col.get_configuration_file_environment_variable()\n",
    "print('config file env name:', name)\n",
    "print('config file env value:', value)"
   ]
  },
  {
   "cell_type": "code",
   "execution_count": null,
   "metadata": {},
   "outputs": [],
   "source": [
    "filename = col.get_configuration_file_name()\n",
    "print('config file name:', filename)"
   ]
  },
  {
   "cell_type": "code",
   "execution_count": null,
   "metadata": {},
   "outputs": [],
   "source": [
    "for kc in [\n",
    "    kimpy.collection.system,\n",
    "    kimpy.collection.user,\n",
    "    kimpy.collection.environmentVariable,\n",
    "    kimpy.collection.currentWorkingDirectory,\n",
    "]:\n",
    "    dirs_for_collection(kc, col)"
   ]
  },
  {
   "cell_type": "code",
   "execution_count": null,
   "metadata": {},
   "outputs": [],
   "source": [
    "for kc in [\n",
    "    kimpy.collection.system,\n",
    "    kimpy.collection.user,\n",
    "    kimpy.collection.environmentVariable,\n",
    "    kimpy.collection.currentWorkingDirectory,\n",
    "]:\n",
    "    names_for_collection(kc, col)"
   ]
  },
  {
   "cell_type": "code",
   "execution_count": null,
   "metadata": {},
   "outputs": [],
   "source": [
    "for it in [\n",
    "    kimpy.collection_item_type.modelDriver,\n",
    "    kimpy.collection_item_type.portableModel,\n",
    "    kimpy.collection_item_type.simulatorModel,\n",
    "]:\n",
    "    extent, error = col.cache_list_of_item_names_by_type(it)\n",
    "    check_error(error, 'cache_list_of_item_names_by_type')\n",
    "    print(str(it), ':')\n",
    "    for i in range(extent):\n",
    "        name, error = col.get_item_name_by_type(i)\n",
    "        check_error(error, 'get_item_name_by_type')\n",
    "        print('    ', name)"
   ]
  },
  {
   "cell_type": "code",
   "execution_count": null,
   "metadata": {},
   "outputs": [],
   "source": [
    "filename, collection, error = col.get_item_library_file_name_and_collection(\n",
    "    kimpy.collection_item_type.simulatorModel,\n",
    "    'Sim_LAMMPS_LJcut_AkersonElliott_Alchemy_PbAu',\n",
    ")\n",
    "check_error(error, 'get_item_library_file_name_and_collection')\n",
    "print(\n",
    "    'Simulator Model Sim_LAMMPS_LJcut_AkersonElliott_Alchemy_PbAu has library name ',\n",
    "    '\"{}\" and is part of the \"{}\" collection'.format(filename, str(collection)),\n",
    ")"
   ]
  },
  {
   "cell_type": "code",
   "execution_count": null,
   "metadata": {},
   "outputs": [],
   "source": [
    "extent, error = col.cache_list_of_item_metadata_files(\n",
    "    kimpy.collection_item_type.simulatorModel,\n",
    "    \"Sim_LAMMPS_LJcut_AkersonElliott_Alchemy_PbAu\",\n",
    ")\n",
    "check_error(error, 'cache_list_of_item_metadata_files')"
   ]
  },
  {
   "cell_type": "code",
   "execution_count": null,
   "metadata": {},
   "outputs": [],
   "source": [
    "for i in range(extent):\n",
    "    out = col.get_item_metadata_file(i)\n",
    "    file_name, file_length, file_raw_data, avail_as_str, file_str, error = out\n",
    "    check_error(error, 'get_item_metadata_file')\n",
    "    print('Metadata file {} ({}) is of length {}'.format(i, file_name, file_length))\n",
    "    print(file_str)\n",
    "\n"
   ]
  },
  {
   "cell_type": "code",
   "execution_count": null,
   "metadata": {},
   "outputs": [],
   "source": [
    "kimpy.collections.destroy(col)"
   ]
  }
 ],
 "metadata": {
  "kernelspec": {
   "display_name": "Python 3",
   "language": "python",
   "name": "python3"
  },
  "language_info": {
   "codemirror_mode": {
    "name": "ipython",
    "version": 3
   },
   "file_extension": ".py",
   "mimetype": "text/x-python",
   "name": "python",
   "nbconvert_exporter": "python",
   "pygments_lexer": "ipython3",
   "version": "3.7.3"
  }
 },
 "nbformat": 4,
 "nbformat_minor": 2
}

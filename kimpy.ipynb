{
 "cells": [
  {
   "cell_type": "code",
   "execution_count": null,
   "metadata": {},
   "outputs": [],
   "source": [
    "from __future__ import absolute_import, division, print_function"
   ]
  },
  {
   "cell_type": "code",
   "execution_count": null,
   "metadata": {},
   "outputs": [],
   "source": [
    "import kimpy"
   ]
  },
  {
   "cell_type": "code",
   "execution_count": null,
   "metadata": {},
   "outputs": [],
   "source": [
    "import subprocess"
   ]
  },
  {
   "cell_type": "code",
   "execution_count": null,
   "metadata": {},
   "outputs": [],
   "source": [
    "import os"
   ]
  },
  {
   "cell_type": "code",
   "execution_count": null,
   "metadata": {},
   "outputs": [],
   "source": [
    "def check_error(error, message=None):\n",
    "    if error != 0 and error is not None:\n",
    "        raise Exception('KIM error. Calling \"{}\" failed.'.format(message))"
   ]
  },
  {
   "cell_type": "code",
   "execution_count": null,
   "metadata": {},
   "outputs": [],
   "source": [
    "def report_error(message=None):\n",
    "    raise Exception('KIM error. {}.'.format(message))"
   ]
  },
  {
   "cell_type": "code",
   "execution_count": null,
   "metadata": {},
   "outputs": [],
   "source": [
    "modelname = 'Sim_LAMMPS_LJcut_AkersonElliott_Alchemy_PbAu'\n",
    "sm, error = kimpy.simulator_model.create(modelname)\n",
    "check_error(error, 'simulator_model.create')"
   ]
  },
  {
   "cell_type": "code",
   "execution_count": null,
   "metadata": {},
   "outputs": [],
   "source": [
    "name, version = sm.get_simulator_name_and_version()\n",
    "print('Simulator name:', name)\n",
    "print('Simulator version:', version)"
   ]
  },
  {
   "cell_type": "code",
   "execution_count": null,
   "metadata": {},
   "outputs": [],
   "source": [
    "extent = sm.get_number_of_supported_species()\n",
    "print('Simulator supports {} species.'.format(extent))\n",
    "for i in range(extent):\n",
    "    species, error = sm.get_supported_species(i)\n",
    "    check_error(error, 'get_supported_species')\n",
    "    print('{}  {}'.format(i, species))"
   ]
  },
  {
   "cell_type": "code",
   "execution_count": null,
   "metadata": {},
   "outputs": [],
   "source": [
    "error = sm.add_template_map('atom-type-sym-list', 'Pb Pb Au Pb')\n",
    "check_error(error, 'add_template_map')\n",
    "sm.close_template_map()\n",
    "number_fields = sm.get_number_of_simulator_fields()\n",
    "print('Simulator model has {} fields.'.format(number_fields))"
   ]
  },
  {
   "cell_type": "code",
   "execution_count": null,
   "metadata": {},
   "outputs": [],
   "source": [
    "for i in range(number_fields):\n",
    "    extent, field_name, error = sm.get_simulator_field_metadata(i)\n",
    "    check_error(error, 'get_simulator_field_metadata')\n",
    "    print('Field {} is {} and has lines:'.format(i, field_name, extent))\n",
    "    for j in range(extent):\n",
    "        field_line, error = sm.get_simulator_field_line(i, j)\n",
    "        check_error(error, 'get_simulator_field_line')\n",
    "        print('    ', field_line)"
   ]
  },
  {
   "cell_type": "code",
   "execution_count": null,
   "metadata": {},
   "outputs": [],
   "source": [
    "dirname = sm.get_parameter_file_directory_name()\n",
    "print('Simulator model parameter directory name is:', dirname)"
   ]
  },
  {
   "cell_type": "code",
   "execution_count": null,
   "metadata": {},
   "outputs": [],
   "source": [
    "specname = sm.get_specification_file_name()\n",
    "print('Simulator model specification file name is:', specname)\n",
    "fname = os.path.join(dirname, specname)\n",
    "subprocess.call(['cat', fname])"
   ]
  },
  {
   "cell_type": "code",
   "execution_count": null,
   "metadata": {},
   "outputs": [],
   "source": [
    "num_param_files = sm.get_number_of_parameter_files()\n",
    "print('Simulator model has {} parameter files.'.format(num_param_files))\n",
    "for i in range(num_param_files):\n",
    "    paramname, error = sm.get_parameter_file_name(i)\n",
    "    check_error(error, 'get_parameter_file_name')\n",
    "    print('Parameter file {} has name: {}'.format(i, paramname))\n",
    "    fname = os.path.join(dirname, paramname)\n",
    "    subprocess.call(['cat', fname])"
   ]
  },
  {
   "cell_type": "code",
   "execution_count": null,
   "metadata": {},
   "outputs": [],
   "source": [
    "kimpy.simulator_model.destroy(sm)"
   ]
  }
 ],
 "metadata": {
  "kernelspec": {
   "display_name": "Python 3",
   "language": "python",
   "name": "python3"
  },
  "language_info": {
   "codemirror_mode": {
    "name": "ipython",
    "version": 3
   },
   "file_extension": ".py",
   "mimetype": "text/x-python",
   "name": "python",
   "nbconvert_exporter": "python",
   "pygments_lexer": "ipython3",
   "version": "3.7.3"
  }
 },
 "nbformat": 4,
 "nbformat_minor": 2
}

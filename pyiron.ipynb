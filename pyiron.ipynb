{
 "cells": [
  {
   "cell_type": "code",
   "execution_count": 1,
   "metadata": {},
   "outputs": [],
   "source": [
    "from pyiron import Project"
   ]
  },
  {
   "cell_type": "code",
   "execution_count": 2,
   "metadata": {},
   "outputs": [],
   "source": [
    "pr = Project('openkim')"
   ]
  },
  {
   "cell_type": "code",
   "execution_count": 3,
   "metadata": {},
   "outputs": [],
   "source": [
    "pr.remove_jobs(recursive=True)"
   ]
  },
  {
   "cell_type": "code",
   "execution_count": 4,
   "metadata": {},
   "outputs": [],
   "source": [
    "structure = pr.create_structure('Fe', 'bcc', 2.78)"
   ]
  },
  {
   "cell_type": "code",
   "execution_count": 5,
   "metadata": {},
   "outputs": [
    {
     "data": {
      "application/vnd.jupyter.widget-view+json": {
       "model_id": "8b3394f877eb4f25bcab10a447d1c4aa",
       "version_major": 2,
       "version_minor": 0
      },
      "text/plain": [
       "_ColormakerRegistry()"
      ]
     },
     "metadata": {},
     "output_type": "display_data"
    },
    {
     "data": {
      "application/vnd.jupyter.widget-view+json": {
       "model_id": "df0e42b3d05d44e6bab40e252caf0bf5",
       "version_major": 2,
       "version_minor": 0
      },
      "text/plain": [
       "NGLWidget()"
      ]
     },
     "metadata": {},
     "output_type": "display_data"
    }
   ],
   "source": [
    "structure.plot3d()"
   ]
  },
  {
   "cell_type": "code",
   "execution_count": 6,
   "metadata": {},
   "outputs": [],
   "source": [
    "job = pr.create_job(pr.job_type.Lammps, 'lmp')"
   ]
  },
  {
   "cell_type": "code",
   "execution_count": 7,
   "metadata": {},
   "outputs": [],
   "source": [
    "job.structure = structure"
   ]
  },
  {
   "cell_type": "code",
   "execution_count": 8,
   "metadata": {},
   "outputs": [
    {
     "data": {
      "text/html": [
       "<div>\n",
       "<style scoped>\n",
       "    .dataframe tbody tr th:only-of-type {\n",
       "        vertical-align: middle;\n",
       "    }\n",
       "\n",
       "    .dataframe tbody tr th {\n",
       "        vertical-align: top;\n",
       "    }\n",
       "\n",
       "    .dataframe thead th {\n",
       "        text-align: right;\n",
       "    }\n",
       "</style>\n",
       "<table border=\"1\" class=\"dataframe\">\n",
       "  <thead>\n",
       "    <tr style=\"text-align: right;\">\n",
       "      <th></th>\n",
       "      <th>Config</th>\n",
       "      <th>Filename</th>\n",
       "      <th>Model</th>\n",
       "      <th>Name</th>\n",
       "      <th>Species</th>\n",
       "    </tr>\n",
       "  </thead>\n",
       "  <tbody>\n",
       "    <tr>\n",
       "      <th>3</th>\n",
       "      <td>[pair_style eam/fs \\n, pair_coeff * * Fe-C_Hepburn_Ackland.eam.fs Fe C\\n]</td>\n",
       "      <td>[NISTiprpy/2008--Hepburn-D-J--Fe-C--LAMMPS--ipr1/Fe-C_Hepburn_Ackland.eam.fs]</td>\n",
       "      <td>EAM</td>\n",
       "      <td>Fe_C_Hepburn_Ackland_eam</td>\n",
       "      <td>[Fe, C]</td>\n",
       "    </tr>\n",
       "    <tr>\n",
       "      <th>9</th>\n",
       "      <td>[pair_style eam/alloy \\n, pair_coeff * * Fe-C-Bec07.eam Fe C\\n]</td>\n",
       "      <td>[becquart_potential/Fe-C-Bec07.eam]</td>\n",
       "      <td>EAM</td>\n",
       "      <td>Fe_C_Becquart_eam</td>\n",
       "      <td>[Fe, C]</td>\n",
       "    </tr>\n",
       "    <tr>\n",
       "      <th>25</th>\n",
       "      <td>[pair_style eam/alloy\\n, pair_coeff * * FeCuNi.eam.alloy Fe Cu Ni\\n]</td>\n",
       "      <td>[NISTiprpy/2009--Bonny-G--Fe-Cu-Ni--LAMMPS--ipr1/FeCuNi.eam.alloy]</td>\n",
       "      <td>NISTiprpy</td>\n",
       "      <td>2009--Bonny-G--Fe-Cu-Ni--LAMMPS--ipr1</td>\n",
       "      <td>[Fe, Cu, Ni]</td>\n",
       "    </tr>\n",
       "    <tr>\n",
       "      <th>27</th>\n",
       "      <td>[pair_style eam/fs\\n, pair_coeff * * V-Fe.eam.fs V Fe\\n]</td>\n",
       "      <td>[NISTiprpy/2007--Mendelev-M-I--V-Fe--LAMMPS--ipr1/V-Fe.eam.fs]</td>\n",
       "      <td>NISTiprpy</td>\n",
       "      <td>2007--Mendelev-M-I--V-Fe--LAMMPS--ipr1</td>\n",
       "      <td>[V, Fe]</td>\n",
       "    </tr>\n",
       "    <tr>\n",
       "      <th>35</th>\n",
       "      <td>[pair_style eam/fs\\n, pair_coeff * * Fe_2.eam Fe\\n]</td>\n",
       "      <td>[NISTiprpy/2003--Mendelev-M-I--Fe-2--LAMMPS--ipr2/Fe_2.eam]</td>\n",
       "      <td>NISTiprpy</td>\n",
       "      <td>2003--Mendelev-M-I--Fe-2--LAMMPS--ipr2</td>\n",
       "      <td>[Fe]</td>\n",
       "    </tr>\n",
       "    <tr>\n",
       "      <th>...</th>\n",
       "      <td>...</td>\n",
       "      <td>...</td>\n",
       "      <td>...</td>\n",
       "      <td>...</td>\n",
       "      <td>...</td>\n",
       "    </tr>\n",
       "    <tr>\n",
       "      <th>649</th>\n",
       "      <td>[pair_style kim Sim_LAMMPS_MEAM_JelinekGrohHorstemeyer_2012_AlSiMgCuFe__SM_656517352485_000\\n, pair_coeff * * Al Si Mg Cu Fe\\n]</td>\n",
       "      <td>[]</td>\n",
       "      <td>OpenKIM</td>\n",
       "      <td>Sim_LAMMPS_MEAM_JelinekGrohHorstemeyer_2012_AlSiMgCuFe__SM_656517352485_000</td>\n",
       "      <td>[Al, Si, Mg, Cu, Fe]</td>\n",
       "    </tr>\n",
       "    <tr>\n",
       "      <th>650</th>\n",
       "      <td>[pair_style kim Sim_LAMMPS_MEAM_KimJungLee_2009_FeTiC__SM_531038274471_000\\n, pair_coeff * * Fe Ti C\\n]</td>\n",
       "      <td>[]</td>\n",
       "      <td>OpenKIM</td>\n",
       "      <td>Sim_LAMMPS_MEAM_KimJungLee_2009_FeTiC__SM_531038274471_000</td>\n",
       "      <td>[Fe, Ti, C]</td>\n",
       "    </tr>\n",
       "    <tr>\n",
       "      <th>654</th>\n",
       "      <td>[pair_style kim Sim_LAMMPS_MEAM_LiyanageSeongGonHouze_2014_FeC__SM_652425777808_000\\n, pair_coeff * * Fe C\\n]</td>\n",
       "      <td>[]</td>\n",
       "      <td>OpenKIM</td>\n",
       "      <td>Sim_LAMMPS_MEAM_LiyanageSeongGonHouze_2014_FeC__SM_652425777808_000</td>\n",
       "      <td>[Fe, C]</td>\n",
       "    </tr>\n",
       "    <tr>\n",
       "      <th>671</th>\n",
       "      <td>[pair_style kim Sim_LAMMPS_ReaxFF_AryanpourVanDuinKubicki_2010_FeHO__SM_222964216001_000\\n, pair_coeff * * Fe H O\\n]</td>\n",
       "      <td>[]</td>\n",
       "      <td>OpenKIM</td>\n",
       "      <td>Sim_LAMMPS_ReaxFF_AryanpourVanDuinKubicki_2010_FeHO__SM_222964216001_000</td>\n",
       "      <td>[Fe, H, O]</td>\n",
       "    </tr>\n",
       "    <tr>\n",
       "      <th>684</th>\n",
       "      <td>[pair_style kim Sim_LAMMPS_TersoffZBL_HenrikssonBjorkasNordlund_2013_FeC__SM_473463498269_000\\n, pair_coeff * * Fe C\\n]</td>\n",
       "      <td>[]</td>\n",
       "      <td>OpenKIM</td>\n",
       "      <td>Sim_LAMMPS_TersoffZBL_HenrikssonBjorkasNordlund_2013_FeC__SM_473463498269_000</td>\n",
       "      <td>[Fe, C]</td>\n",
       "    </tr>\n",
       "  </tbody>\n",
       "</table>\n",
       "<p>78 rows × 5 columns</p>\n",
       "</div>"
      ],
      "text/plain": [
       "                                                                                                                              Config  \\\n",
       "3                                                          [pair_style eam/fs \\n, pair_coeff * * Fe-C_Hepburn_Ackland.eam.fs Fe C\\n]   \n",
       "9                                                                    [pair_style eam/alloy \\n, pair_coeff * * Fe-C-Bec07.eam Fe C\\n]   \n",
       "25                                                              [pair_style eam/alloy\\n, pair_coeff * * FeCuNi.eam.alloy Fe Cu Ni\\n]   \n",
       "27                                                                          [pair_style eam/fs\\n, pair_coeff * * V-Fe.eam.fs V Fe\\n]   \n",
       "35                                                                               [pair_style eam/fs\\n, pair_coeff * * Fe_2.eam Fe\\n]   \n",
       "..                                                                                                                               ...   \n",
       "649  [pair_style kim Sim_LAMMPS_MEAM_JelinekGrohHorstemeyer_2012_AlSiMgCuFe__SM_656517352485_000\\n, pair_coeff * * Al Si Mg Cu Fe\\n]   \n",
       "650                          [pair_style kim Sim_LAMMPS_MEAM_KimJungLee_2009_FeTiC__SM_531038274471_000\\n, pair_coeff * * Fe Ti C\\n]   \n",
       "654                    [pair_style kim Sim_LAMMPS_MEAM_LiyanageSeongGonHouze_2014_FeC__SM_652425777808_000\\n, pair_coeff * * Fe C\\n]   \n",
       "671             [pair_style kim Sim_LAMMPS_ReaxFF_AryanpourVanDuinKubicki_2010_FeHO__SM_222964216001_000\\n, pair_coeff * * Fe H O\\n]   \n",
       "684          [pair_style kim Sim_LAMMPS_TersoffZBL_HenrikssonBjorkasNordlund_2013_FeC__SM_473463498269_000\\n, pair_coeff * * Fe C\\n]   \n",
       "\n",
       "                                                                          Filename  \\\n",
       "3    [NISTiprpy/2008--Hepburn-D-J--Fe-C--LAMMPS--ipr1/Fe-C_Hepburn_Ackland.eam.fs]   \n",
       "9                                              [becquart_potential/Fe-C-Bec07.eam]   \n",
       "25              [NISTiprpy/2009--Bonny-G--Fe-Cu-Ni--LAMMPS--ipr1/FeCuNi.eam.alloy]   \n",
       "27                  [NISTiprpy/2007--Mendelev-M-I--V-Fe--LAMMPS--ipr1/V-Fe.eam.fs]   \n",
       "35                     [NISTiprpy/2003--Mendelev-M-I--Fe-2--LAMMPS--ipr2/Fe_2.eam]   \n",
       "..                                                                             ...   \n",
       "649                                                                             []   \n",
       "650                                                                             []   \n",
       "654                                                                             []   \n",
       "671                                                                             []   \n",
       "684                                                                             []   \n",
       "\n",
       "         Model  \\\n",
       "3          EAM   \n",
       "9          EAM   \n",
       "25   NISTiprpy   \n",
       "27   NISTiprpy   \n",
       "35   NISTiprpy   \n",
       "..         ...   \n",
       "649    OpenKIM   \n",
       "650    OpenKIM   \n",
       "654    OpenKIM   \n",
       "671    OpenKIM   \n",
       "684    OpenKIM   \n",
       "\n",
       "                                                                              Name  \\\n",
       "3                                                         Fe_C_Hepburn_Ackland_eam   \n",
       "9                                                                Fe_C_Becquart_eam   \n",
       "25                                           2009--Bonny-G--Fe-Cu-Ni--LAMMPS--ipr1   \n",
       "27                                          2007--Mendelev-M-I--V-Fe--LAMMPS--ipr1   \n",
       "35                                          2003--Mendelev-M-I--Fe-2--LAMMPS--ipr2   \n",
       "..                                                                             ...   \n",
       "649    Sim_LAMMPS_MEAM_JelinekGrohHorstemeyer_2012_AlSiMgCuFe__SM_656517352485_000   \n",
       "650                     Sim_LAMMPS_MEAM_KimJungLee_2009_FeTiC__SM_531038274471_000   \n",
       "654            Sim_LAMMPS_MEAM_LiyanageSeongGonHouze_2014_FeC__SM_652425777808_000   \n",
       "671       Sim_LAMMPS_ReaxFF_AryanpourVanDuinKubicki_2010_FeHO__SM_222964216001_000   \n",
       "684  Sim_LAMMPS_TersoffZBL_HenrikssonBjorkasNordlund_2013_FeC__SM_473463498269_000   \n",
       "\n",
       "                  Species  \n",
       "3                 [Fe, C]  \n",
       "9                 [Fe, C]  \n",
       "25           [Fe, Cu, Ni]  \n",
       "27                [V, Fe]  \n",
       "35                   [Fe]  \n",
       "..                    ...  \n",
       "649  [Al, Si, Mg, Cu, Fe]  \n",
       "650           [Fe, Ti, C]  \n",
       "654               [Fe, C]  \n",
       "671            [Fe, H, O]  \n",
       "684               [Fe, C]  \n",
       "\n",
       "[78 rows x 5 columns]"
      ]
     },
     "execution_count": 8,
     "metadata": {},
     "output_type": "execute_result"
    }
   ],
   "source": [
    "job.view_potentials()"
   ]
  },
  {
   "cell_type": "code",
   "execution_count": 9,
   "metadata": {},
   "outputs": [
    {
     "data": {
      "text/plain": [
       "['Fe_C_Hepburn_Ackland_eam',\n",
       " 'Fe_C_Becquart_eam',\n",
       " '2009--Bonny-G--Fe-Cu-Ni--LAMMPS--ipr1',\n",
       " '2007--Mendelev-M-I--V-Fe--LAMMPS--ipr1',\n",
       " '2003--Mendelev-M-I--Fe-2--LAMMPS--ipr2',\n",
       " '2013--Henriksson-K-O-E--Fe-C--LAMMPS--ipr1',\n",
       " '2013--Bonny-G--Fe-W--LAMMPS--ipr1',\n",
       " '2008--Hepburn-D-J--Fe-C--LAMMPS--ipr1',\n",
       " '2010--Malerba-L--Fe--LAMMPS--ipr1',\n",
       " '2009--Bonny-G--Fe-Ni--LAMMPS--ipr1',\n",
       " '2003--Mendelev-M-I--Fe-5--LAMMPS--ipr1',\n",
       " '2006--Chamati-H--Fe--LAMMPS--Ilaksh',\n",
       " '2018--Etesami-S-A--Fe--LAMMPS--ipr1',\n",
       " '2004--Zhou-X-W--Fe--LAMMPS--ipr1',\n",
       " '2009--Kim-H-K--Fe-Ti-C--LAMMPS--ipr2',\n",
       " '2015--Asadi-E--Fe--LAMMPS--ipr1',\n",
       " '1997--Ackland-G-J--Fe--LAMMPS--ipr1',\n",
       " '2012--Proville-L--Fe--LAMMPS--Hale',\n",
       " '2004--Ackland-G-J--Fe-P--LAMMPS--ipr1',\n",
       " '2003--Mendelev-M-I--Fe-2--LAMMPS--ipr3',\n",
       " '2014--Liyanage-L-S-I--Fe-C--LAMMPS--ipr2',\n",
       " '2013--Bonny-G--Fe-Cr-W-LAMMPS--ipr1',\n",
       " '2003--Mendelev-M-I--Fe-2--LAMMPS--ipr1',\n",
       " '2006--Chamati-H--Fe--LAMMPS--ipr1',\n",
       " '2013--Bonny-G--Fe-Ni-Cr--LAMMPS--ipr1',\n",
       " '2014--Liyanage-L-S-I--Fe-C--LAMMPS--ipr1',\n",
       " '2005--Mendelev-M-I--Al-Fe--LAMMPS--ipr1',\n",
       " '2017--Wang-P--TWIP--LAMMPS--ipr1',\n",
       " '2011--Bonny-G--Fe-Cr--LAMMPS--ipr1',\n",
       " '2004--Zhou-X-W--Fe--LAMMPS--ipr2',\n",
       " '2011--Bonny-G--Fe-Ni-Cr--LAMMPS--ipr1',\n",
       " '2012--Proville-L--Fe--LAMMPS--ipr1',\n",
       " '2009--Kim-H-K--Fe-Ti-C--LAMMPS--ipr1',\n",
       " '2019--Byggmastar-J--Fe-O--LAMMPS--ipr1',\n",
       " '2009--Olsson-P-A-T--Fe--LAMMPS--ipr1',\n",
       " '2018--Farkas-D--Fe-Ni-Cr-Co-Cu--LAMMPS--ipr1',\n",
       " '2018--Farkas-D--Fe-Ni-Cr-Co-Cu--LAMMPS--ipr2',\n",
       " '2009--Stukowski-A--Fe-Cr--LAMMPS--ipr1',\n",
       " '2013--Bonny-G--Fe-Cr-W--LAMMPS--ipr1',\n",
       " '2018--Zhou-X-W--Fe-Ni-Cr--LAMMPS--ipr1',\n",
       " '2011--Chiesa-S--Fe-33--LAMMPS--ipr1',\n",
       " '2018--Zhou-X-W--Fe-Ni-Cr--LAMMPS--ipr2',\n",
       " 'EAM_Dynamo_AcklandBaconCalder_1997_Fe__MO_142799717516_005',\n",
       " 'EAM_Dynamo_AcklandMendelevSrolovitz_2004_FeP__MO_884343146310_005',\n",
       " 'EAM_Dynamo_BonnyCastinBullens_2013_FeW__MO_737567242631_000',\n",
       " 'EAM_Dynamo_BonnyCastinTerentyev_2013_FeNiCr__MO_763197941039_000',\n",
       " 'EAM_Dynamo_BonnyPasianotCastin_2009_FeCuNi__MO_469343973171_005',\n",
       " 'EAM_Dynamo_BonnyPasianotMalerba_2009_FeNi__MO_267721408934_005',\n",
       " 'EAM_Dynamo_ChamatiPapanicolaouMishin_2006_Fe__MO_960699513424_000',\n",
       " 'EAM_Dynamo_HepburnAckland_2008_FeC__MO_143977152728_005',\n",
       " 'EAM_Dynamo_Marinica_2007_Fe__MO_466808877130_000',\n",
       " 'EAM_Dynamo_Marinica_2011_Fe__MO_255315407910_000',\n",
       " 'EAM_Dynamo_MendelevHanSon_2007_VFe__MO_249706810527_005',\n",
       " 'EAM_Dynamo_MendelevHanSrolovitz_2003Potential2_Fe__MO_769582363439_005',\n",
       " 'EAM_Dynamo_MendelevHanSrolovitz_2003Potential5_Fe__MO_942420706858_005',\n",
       " 'EAM_Dynamo_MendelevHanSrolovitz_2003_Fe__MO_807997826449_000',\n",
       " 'EAM_Dynamo_MendelevSrolovitzAckland_2005_AlFe__MO_577453891941_005',\n",
       " 'EAM_Dynamo_Mendelev_2003_Fe__MO_546673549085_000',\n",
       " 'EAM_Dynamo_ZhouJohnsonWadley_2004_Fe__MO_650279905230_005',\n",
       " 'EAM_Dynamo_ZhouWadleyJohnson_2001NISTretabulation_Fe__MO_681088298208_000',\n",
       " 'EAM_Magnetic2GQuintic_ChiesaDerletDudarev_2011_Fe__MO_140444321607_002',\n",
       " 'EAM_MagneticCubic_DudarevDerlet_2005_Fe__MO_135034229282_002',\n",
       " 'EAM_MagneticCubic_MendelevHanSrolovitz_2003_Fe__MO_856295952425_002',\n",
       " 'MJ_MorrisAgaLevashov_2008_Fe__MO_857282754307_003',\n",
       " 'Morse_Shifted_GirifalcoWeizer_1959HighCutoff_Fe__MO_147603128437_003',\n",
       " 'Morse_Shifted_GirifalcoWeizer_1959LowCutoff_Fe__MO_331285495617_003',\n",
       " 'Morse_Shifted_GirifalcoWeizer_1959MedCutoff_Fe__MO_984358344196_003',\n",
       " 'Tersoff_LAMMPS_MuellerErhartAlbe_2007_Fe__MO_137964310702_002',\n",
       " 'Sim_LAMMPS_EAMCD_StukowskiSadighErhart_2009_FeCr__SM_775564499513_000',\n",
       " 'Sim_LAMMPS_EAM_BonnyCastinBullens_2013_FeCrW__SM_699257350704_000',\n",
       " 'Sim_LAMMPS_EAM_BonnyPasianotTerentyev_2011_FeCr__SM_237089298463_000',\n",
       " 'Sim_LAMMPS_MEAM_AsadiZaeemNouranian_2015_Fe__SM_042630680993_000',\n",
       " 'Sim_LAMMPS_MEAM_EtesamiAsadi_2018_Fe__SM_267016608755_000',\n",
       " 'Sim_LAMMPS_MEAM_JelinekGrohHorstemeyer_2012_AlSiMgCuFe__SM_656517352485_000',\n",
       " 'Sim_LAMMPS_MEAM_KimJungLee_2009_FeTiC__SM_531038274471_000',\n",
       " 'Sim_LAMMPS_MEAM_LiyanageSeongGonHouze_2014_FeC__SM_652425777808_000',\n",
       " 'Sim_LAMMPS_ReaxFF_AryanpourVanDuinKubicki_2010_FeHO__SM_222964216001_000',\n",
       " 'Sim_LAMMPS_TersoffZBL_HenrikssonBjorkasNordlund_2013_FeC__SM_473463498269_000']"
      ]
     },
     "execution_count": 9,
     "metadata": {},
     "output_type": "execute_result"
    }
   ],
   "source": [
    "job.list_potentials()"
   ]
  },
  {
   "cell_type": "code",
   "execution_count": 10,
   "metadata": {},
   "outputs": [],
   "source": [
    "job.potential = 'EAM_Dynamo_MendelevHanSrolovitz_2003Potential5_Fe__MO_942420706858_005'"
   ]
  },
  {
   "cell_type": "code",
   "execution_count": 11,
   "metadata": {
    "scrolled": true
   },
   "outputs": [
    {
     "name": "stdout",
     "output_type": "stream",
     "text": [
      "The job lmp was saved and received the ID: 1\n"
     ]
    }
   ],
   "source": [
    "job.run()"
   ]
  },
  {
   "cell_type": "code",
   "execution_count": 12,
   "metadata": {},
   "outputs": [
    {
     "data": {
      "text/plain": [
       "array([-8.1874497])"
      ]
     },
     "execution_count": 12,
     "metadata": {},
     "output_type": "execute_result"
    }
   ],
   "source": [
    "job['output/generic/energy_tot']"
   ]
  },
  {
   "cell_type": "code",
   "execution_count": null,
   "metadata": {},
   "outputs": [],
   "source": []
  }
 ],
 "metadata": {
  "kernelspec": {
   "display_name": "Python 3",
   "language": "python",
   "name": "python3"
  },
  "language_info": {
   "codemirror_mode": {
    "name": "ipython",
    "version": 3
   },
   "file_extension": ".py",
   "mimetype": "text/x-python",
   "name": "python",
   "nbconvert_exporter": "python",
   "pygments_lexer": "ipython3",
   "version": "3.7.3"
  }
 },
 "nbformat": 4,
 "nbformat_minor": 2
}
